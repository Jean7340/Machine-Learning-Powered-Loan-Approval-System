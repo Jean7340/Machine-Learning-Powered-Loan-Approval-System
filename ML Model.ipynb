{
 "cells": [
  {
   "cell_type": "code",
   "execution_count": 1,
   "id": "3e5a7826",
   "metadata": {},
   "outputs": [
    {
     "name": "stdout",
     "output_type": "stream",
     "text": [
      "Defaulting to user installation because normal site-packages is not writeable\n",
      "Requirement already satisfied: imbalanced-learn in /usr/local/lib/python3.10/site-packages (0.9.1)\n",
      "Requirement already satisfied: numpy>=1.17.3 in /usr/local/lib/python3.10/site-packages (from imbalanced-learn) (1.26.2)\n",
      "Requirement already satisfied: scipy>=1.3.2 in /usr/local/lib/python3.10/site-packages (from imbalanced-learn) (1.11.4)\n",
      "Requirement already satisfied: scikit-learn>=1.1.0 in /usr/local/lib/python3.10/site-packages (from imbalanced-learn) (1.3.1)\n",
      "Requirement already satisfied: joblib>=1.0.0 in /usr/local/lib/python3.10/site-packages (from imbalanced-learn) (1.2.0)\n",
      "Requirement already satisfied: threadpoolctl>=2.0.0 in /usr/local/lib/python3.10/site-packages (from imbalanced-learn) (3.1.0)\n",
      "Note: you may need to restart the kernel to use updated packages.\n"
     ]
    }
   ],
   "source": [
    "pip install imbalanced-learn"
   ]
  },
  {
   "cell_type": "code",
   "execution_count": 2,
   "id": "c80dd604",
   "metadata": {},
   "outputs": [
    {
     "name": "stdout",
     "output_type": "stream",
     "text": [
      "Top 24 Important Features Based on Lasso Regression:\n",
      "ExternalRiskEstimate                  0.119544\n",
      "NumInqLast6Mexcl7days                 0.098126\n",
      "MSinceMostRecentDelq                  0.075133\n",
      "NumSatisfactoryTrades                 0.062653\n",
      "AverageMInFile                        0.047528\n",
      "MaxDelqEver                           0.037992\n",
      "MSinceMostRecentInqexcl7days          0.025538\n",
      "NumInstallTradesWBalance              0.018091\n",
      "NumBank2NatlTradesWHighUtilization    0.016210\n",
      "MSinceOldestTradeOpen                 0.012396\n",
      "PercentTradesNeverDelq                0.012296\n",
      "NumTrades60Ever2DerogPubRec           0.005597\n",
      "PercentTradesWBalance                 0.004255\n",
      "NumTotalTrades                       -0.000416\n",
      "NumTrades90Ever2DerogPubRec          -0.001992\n",
      "NetFractionInstallBurden             -0.004670\n",
      "NumTradesOpeninLast12M               -0.008103\n",
      "MSinceMostRecentTradeOpen            -0.008568\n",
      "MaxDelq2PublicRecLast12M             -0.016938\n",
      "PercentInstallTrades                 -0.033737\n",
      "NumRevolvingTradesWBalance           -0.040916\n",
      "NetFractionRevolvingBurden           -0.061362\n",
      "NumInqLast6M                         -0.126634\n",
      "dtype: float64\n",
      "Counts of 'Bad' vs 'Good':\n",
      "RiskPerformance\n",
      "Bad     5127\n",
      "Good    4733\n",
      "Name: count, dtype: int64\n",
      "Resampled class distribution: Counter({0: 4094, 1: 4094})\n"
     ]
    }
   ],
   "source": [
    "import pandas as pd\n",
    "import numpy as np\n",
    "from sklearn.linear_model import LassoCV\n",
    "from sklearn.preprocessing import StandardScaler\n",
    "from sklearn.preprocessing import LabelEncoder\n",
    "from imblearn.over_sampling import SMOTE\n",
    "from collections import Counter\n",
    "from sklearn.model_selection import train_test_split\n",
    "from sklearn.linear_model import LogisticRegression\n",
    "from sklearn.metrics import accuracy_score, precision_score, recall_score, f1_score, confusion_matrix, classification_report\n",
    "from sklearn.ensemble import RandomForestClassifier\n",
    "import matplotlib.pyplot as plt\n",
    "import seaborn as sns\n",
    "from sklearn.model_selection import RandomizedSearchCV\n",
    "from sklearn.model_selection import train_test_split, GridSearchCV\n",
    "import xgboost as xgb\n",
    "\n",
    "\n",
    "# Read in dataset\n",
    "df = pd.read_csv(\"heloc_dataset_v1.csv\")\n",
    "df.head(3)\n",
    "\n",
    "# Remove rows with missing values\n",
    "df = df[~df.isin([-9]).any(axis=1)]\n",
    "\n",
    "# Calculate group means for numerical columns where -7 needs to be replaced\n",
    "group_means = df.replace(-7, np.nan).groupby('RiskPerformance').mean()\n",
    "\n",
    "# Function to impute -7 with group means based on Risk_Performance\n",
    "def impute_with_group_mean(row):\n",
    "    for col in df.columns:\n",
    "        # Skip non-numerical columns (like 'Risk_Performance')\n",
    "        if col == 'RiskPerformance' or not np.issubdtype(df[col].dtype, np.number):\n",
    "            continue\n",
    "        # Replace -7 with the corresponding group's mean\n",
    "        if row[col] == -7:\n",
    "            row[col] = group_means.loc[row['RiskPerformance'], col]\n",
    "    return row\n",
    "\n",
    "# Apply the function row by row\n",
    "df = df.apply(impute_with_group_mean, axis=1)\n",
    "\n",
    "\n",
    "\n",
    "# Check and remove duplicate rows\n",
    "duplicates = df.duplicated()\n",
    "num_duplicates = duplicates.sum()\n",
    "#print(f\"Number of duplicate rows: {num_duplicates}\")\n",
    "\n",
    "duplicate_rows = df[duplicates]\n",
    "#print(\"Duplicate rows:\\n\", duplicate_rows)\n",
    "\n",
    "df = df.drop_duplicates()\n",
    "\n",
    "\n",
    "label_encoder = LabelEncoder()\n",
    "\n",
    "# Separate features and target variable\n",
    "X = df.drop(columns=['RiskPerformance'])\n",
    "y = label_encoder.fit_transform(df['RiskPerformance'])\n",
    "\n",
    "scaler = StandardScaler()\n",
    "X_scaled = scaler.fit_transform(X)\n",
    "\n",
    "# Apply Lasso regression with cross-validation\n",
    "lasso = LassoCV(cv=5, random_state=42)\n",
    "lasso.fit(X_scaled, y)\n",
    "\n",
    "# Extract feature importance\n",
    "lasso_importance = pd.Series(lasso.coef_, index=X.columns)\n",
    "important_features = lasso_importance[lasso_importance != 0].sort_values(ascending=False)\n",
    "\n",
    "# Print the top 10 most important features\n",
    "top_n = 24\n",
    "print(f\"Top {top_n} Important Features Based on Lasso Regression:\")\n",
    "print(important_features.head(top_n))\n",
    "\n",
    "# Class Imbalance\n",
    "counts = df[\"RiskPerformance\"].value_counts()\n",
    "print(\"Counts of 'Bad' vs 'Good':\")\n",
    "print(counts)\n",
    "\n",
    "# Step 2: Split the data into train and test sets (80% train, 20% test)\n",
    "X_train, X_test, y_train, y_test = train_test_split(X, y, test_size=0.2, random_state=42)\n",
    "\n",
    "smote = SMOTE(random_state=42)\n",
    "X_resampled, y_resampled = smote.fit_resample(X_train, y_train)\n",
    "\n",
    "# New class distribution\n",
    "print(\"Resampled class distribution:\", Counter(y_resampled))"
   ]
  },
  {
   "cell_type": "code",
   "execution_count": 3,
   "id": "d20d9b59-debd-4b7d-b58c-9e9aa72e0fcd",
   "metadata": {},
   "outputs": [
    {
     "data": {
      "text/plain": [
       "9860"
      ]
     },
     "execution_count": 3,
     "metadata": {},
     "output_type": "execute_result"
    }
   ],
   "source": [
    "rows=df.shape[0]\n",
    "rows"
   ]
  },
  {
   "cell_type": "markdown",
   "id": "3e60102b",
   "metadata": {},
   "source": [
    "### Logistic Regression Model"
   ]
  },
  {
   "cell_type": "code",
   "execution_count": 4,
   "id": "2a26d205-eef7-4177-8cf0-88676917184c",
   "metadata": {},
   "outputs": [],
   "source": [
    "#Train logistic regression model\n",
    "log_reg=LogisticRegression(solver='liblinear', random_state=42)\n",
    "log_reg.fit(X_resampled, y_resampled)\n",
    "\n",
    "# Make predictions\n",
    "y_pred = log_reg.predict(X_test)\n",
    "\n"
   ]
  },
  {
   "cell_type": "code",
   "execution_count": 5,
   "id": "cd2ad8b4",
   "metadata": {},
   "outputs": [
    {
     "name": "stdout",
     "output_type": "stream",
     "text": [
      "🔍 Model Performance Metrics:\n",
      "Accuracy: 0.7383\n",
      "Precision: 0.7156\n",
      "Recall: 0.7476\n",
      "F1 Score: 0.7313\n",
      "\n",
      "Classification Report:\n",
      "               precision    recall  f1-score   support\n",
      "\n",
      "           0       0.76      0.73      0.75      1033\n",
      "           1       0.72      0.75      0.73       939\n",
      "\n",
      "    accuracy                           0.74      1972\n",
      "   macro avg       0.74      0.74      0.74      1972\n",
      "weighted avg       0.74      0.74      0.74      1972\n",
      "\n"
     ]
    }
   ],
   "source": [
    "# Step 9: Model Evaluation for logistic regression model\n",
    "log_accuracy = accuracy_score(y_test, y_pred)\n",
    "log_precision = precision_score(y_test, y_pred)\n",
    "log_recall = recall_score(y_test, y_pred)\n",
    "log_f1 = f1_score(y_test, y_pred)\n",
    "\n",
    "print(\"🔍 Model Performance Metrics:\")\n",
    "print(f\"Accuracy: {log_accuracy:.4f}\")\n",
    "print(f\"Precision: {log_precision:.4f}\")\n",
    "print(f\"Recall: {log_recall:.4f}\")\n",
    "print(f\"F1 Score: {log_f1:.4f}\")\n",
    "print(\"\\nClassification Report:\\n\", classification_report(y_test, y_pred))\n"
   ]
  },
  {
   "cell_type": "code",
   "execution_count": null,
   "id": "aca46ebf",
   "metadata": {},
   "outputs": [],
   "source": []
  },
  {
   "cell_type": "code",
   "execution_count": 6,
   "id": "8ca6b77e",
   "metadata": {},
   "outputs": [
    {
     "data": {
      "image/png": "[encoded data removed]",
      "text/plain": [
       "<Figure size 432x288 with 2 Axes>"
      ]
     },
     "metadata": {
      "needs_background": "light"
     },
     "output_type": "display_data"
    }
   ],
   "source": [
    "# Confusion Matrix Visualization\n",
    "cm = confusion_matrix(y_test, y_pred)\n",
    "plt.figure(figsize=(6, 4))\n",
    "sns.heatmap(cm, annot=True, fmt=\"d\", cmap=\"Blues\", xticklabels=[\"Bad (0)\", \"Good (1)\"], yticklabels=[\"Bad (0)\", \"Good (1)\"])\n",
    "plt.xlabel(\"Predicted\")\n",
    "plt.ylabel(\"Actual\")\n",
    "plt.title(\"Confusion Matrix\")\n",
    "plt.show()\n"
   ]
  },
  {
   "cell_type": "markdown",
   "id": "ffd3d258",
   "metadata": {},
   "source": [
    "### Random Forest Model"
   ]
  },
  {
   "cell_type": "code",
   "execution_count": 7,
   "id": "8483dec0",
   "metadata": {},
   "outputs": [
    {
     "name": "stdout",
     "output_type": "stream",
     "text": [
      "Random Forest Model Performance:\n",
      "Accuracy: 0.8808\n",
      "Precision: 0.8929\n",
      "Recall: 0.8520\n",
      "F1 Score: 0.8719\n",
      "\n",
      "Classification Report:\n",
      "               precision    recall  f1-score   support\n",
      "\n",
      "           0       0.87      0.91      0.89      1033\n",
      "           1       0.89      0.85      0.87       939\n",
      "\n",
      "    accuracy                           0.88      1972\n",
      "   macro avg       0.88      0.88      0.88      1972\n",
      "weighted avg       0.88      0.88      0.88      1972\n",
      "\n"
     ]
    }
   ],
   "source": [
    "\n",
    "#Train Random Forest Model\n",
    "rf_model = RandomForestClassifier(n_estimators=100, random_state=42, class_weight=\"balanced\")\n",
    "rf_model.fit(X_resampled, y_resampled)\n",
    "\n",
    "#Make Predictions\n",
    "y_pred = rf_model.predict(X_test)\n",
    "\n",
    "#Model Evaluation\n",
    "rf_accuracy = accuracy_score(y_test, y_pred)\n",
    "rf_precision = precision_score(y_test, y_pred)\n",
    "rf_recall = recall_score(y_test, y_pred)\n",
    "rf_f1 = f1_score(y_test, y_pred)\n",
    "\n",
    "# Printing output \n",
    "print(\"Random Forest Model Performance:\")\n",
    "print(f\"Accuracy: {rf_accuracy:.4f}\")\n",
    "print(f\"Precision: {rf_precision:.4f}\")\n",
    "print(f\"Recall: {rf_recall:.4f}\")\n",
    "print(f\"F1 Score: {rf_f1:.4f}\")\n",
    "print(\"\\nClassification Report:\\n\", classification_report(y_test, y_pred))"
   ]
  },
  {
   "cell_type": "code",
   "execution_count": 8,
   "id": "aced2539",
   "metadata": {},
   "outputs": [
    {
     "data": {
      "image/png": "[encoded data removed]",
      "text/plain": [
       "<Figure size 432x288 with 2 Axes>"
      ]
     },
     "metadata": {
      "needs_background": "light"
     },
     "output_type": "display_data"
    }
   ],
   "source": [
    "#Confusion Matrix Visualization\n",
    "cm = confusion_matrix(y_test, y_pred)\n",
    "plt.figure(figsize=(6, 4))\n",
    "sns.heatmap(cm, annot=True, fmt=\"d\", cmap=\"Blues\", xticklabels=[\"Bad (0)\", \"Good (1)\"], yticklabels=[\"Bad (0)\", \"Good (1)\"])\n",
    "plt.xlabel(\"Predicted\")\n",
    "plt.ylabel(\"Actual\")\n",
    "plt.title(\"Confusion Matrix\")\n",
    "plt.show()"
   ]
  },
  {
   "cell_type": "markdown",
   "id": "6b6f0e64",
   "metadata": {},
   "source": [
    "### Random Forest Model + Random Search Grid for imoroving the model by hypertuning Parameter "
   ]
  },
  {
   "cell_type": "code",
   "execution_count": 27,
   "id": "1824d0b9",
   "metadata": {},
   "outputs": [
    {
     "name": "stdout",
     "output_type": "stream",
     "text": [
      "Fitting 5 folds for each of 20 candidates, totalling 100 fits\n",
      "Best Hyperparameters (via Random Search): {'n_estimators': 600, 'min_samples_split': 8, 'min_samples_leaf': 1, 'max_features': 'sqrt', 'max_depth': 30, 'class_weight': 'balanced'}\n",
      "Tuned Random Forest Performance (Randomized Search):\n",
      "Accuracy: 0.8798\n",
      "Precision: 0.8944\n",
      "Recall: 0.8477\n",
      "F1 Score: 0.8704\n"
     ]
    }
   ],
   "source": [
    "\n",
    "\n",
    "# Define Random Search Grid\n",
    "random_grid = {\n",
    "    'n_estimators': np.arange(100, 1000, 100),\n",
    "    'max_depth': np.arange(10, 50, 5),\n",
    "    'min_samples_split': np.arange(2, 10, 2),\n",
    "    'min_samples_leaf': np.arange(1, 5, 1),\n",
    "    'max_features': ['sqrt', 'log2'],\n",
    "    'class_weight': ['balanced', 'balanced_subsample']\n",
    "}\n",
    "\n",
    "# Randomized Search with Cross-Validation\n",
    "random_search = RandomizedSearchCV(rf_model, param_distributions=random_grid, \n",
    "                                   n_iter=20, cv=5, scoring='f1', n_jobs=-1, verbose=2, random_state=42)\n",
    "random_search.fit(X_resampled, y_resampled)\n",
    "\n",
    "# Best Model\n",
    "best_rf_model_random = random_search.best_estimator_\n",
    "\n",
    "# Predictions on Test Set\n",
    "y_pred_rf_random = best_rf_model_random.predict(X_test)\n",
    "\n",
    "# Evaluate Performance\n",
    "accuracy_random = accuracy_score(y_test, y_pred_rf_random)\n",
    "precision_random = precision_score(y_test, y_pred_rf_random)\n",
    "recall_random = recall_score(y_test, y_pred_rf_random)\n",
    "f1_random = f1_score(y_test, y_pred_rf_random)\n",
    "\n",
    "print(\"Best Hyperparameters (via Random Search):\", random_search.best_params_)\n",
    "print(\"Tuned Random Forest Performance (Randomized Search):\")\n",
    "print(f\"Accuracy: {accuracy_random:.4f}\")\n",
    "print(f\"Precision: {precision_random:.4f}\")\n",
    "print(f\"Recall: {recall_random:.4f}\")\n",
    "print(f\"F1 Score: {f1_random:.4f}\")\n"
   ]
  },
  {
   "cell_type": "code",
   "execution_count": 28,
   "id": "ed6fb7b9",
   "metadata": {},
   "outputs": [
    {
     "data": {
      "image/png": "[encoded data removed]",
      "text/plain": [
       "<Figure size 432x288 with 2 Axes>"
      ]
     },
     "metadata": {
      "needs_background": "light"
     },
     "output_type": "display_data"
    }
   ],
   "source": [
    "#Confusion Matrix Visualization\n",
    "cm = confusion_matrix(y_test, y_pred_rf_random)\n",
    "plt.figure(figsize=(6, 4))\n",
    "sns.heatmap(cm, annot=True, fmt=\"d\", cmap=\"Blues\", xticklabels=[\"Bad (0)\", \"Good (1)\"], yticklabels=[\"Bad (0)\", \"Good (1)\"])\n",
    "plt.xlabel(\"Predicted\")\n",
    "plt.ylabel(\"Actual\")\n",
    "plt.title(\"Confusion Matrix\")\n",
    "plt.show()"
   ]
  },
  {
   "cell_type": "code",
   "execution_count": null,
   "id": "44194d37",
   "metadata": {},
   "outputs": [],
   "source": []
  },
  {
   "cell_type": "code",
   "execution_count": 29,
   "id": "9391edbe",
   "metadata": {},
   "outputs": [
    {
     "name": "stderr",
     "output_type": "stream",
     "text": [
      "/usr/local/lib/python3.10/site-packages/xgboost/data.py:298: FutureWarning: is_sparse is deprecated and will be removed in a future version. Check `isinstance(dtype, pd.SparseDtype)` instead.\n",
      "  if is_sparse(dtype):\n",
      "/usr/local/lib/python3.10/site-packages/xgboost/data.py:300: FutureWarning: is_categorical_dtype is deprecated and will be removed in a future version. Use isinstance(dtype, CategoricalDtype) instead\n",
      "  elif is_categorical_dtype(dtype) and enable_categorical:\n"
     ]
    },
    {
     "name": "stdout",
     "output_type": "stream",
     "text": [
      "XGBoost Model Performance:\n",
      "Accuracy: 0.8783\n",
      "Precision: 0.8853\n",
      "Recall: 0.8552\n",
      "F1 Score: 0.8700\n",
      "\n",
      "Classification Report:\n",
      "               precision    recall  f1-score   support\n",
      "\n",
      "           0       0.87      0.90      0.89      1033\n",
      "           1       0.89      0.86      0.87       939\n",
      "\n",
      "    accuracy                           0.88      1972\n",
      "   macro avg       0.88      0.88      0.88      1972\n",
      "weighted avg       0.88      0.88      0.88      1972\n",
      "\n"
     ]
    },
    {
     "name": "stderr",
     "output_type": "stream",
     "text": [
      "/usr/local/lib/python3.10/site-packages/xgboost/data.py:298: FutureWarning: is_sparse is deprecated and will be removed in a future version. Check `isinstance(dtype, pd.SparseDtype)` instead.\n",
      "  if is_sparse(dtype):\n",
      "/usr/local/lib/python3.10/site-packages/xgboost/data.py:300: FutureWarning: is_categorical_dtype is deprecated and will be removed in a future version. Use isinstance(dtype, CategoricalDtype) instead\n",
      "  elif is_categorical_dtype(dtype) and enable_categorical:\n"
     ]
    },
    {
     "data": {
      "image/png": "[encoded data removed]",
      "text/plain": [
       "<Figure size 432x288 with 2 Axes>"
      ]
     },
     "metadata": {
      "needs_background": "light"
     },
     "output_type": "display_data"
    },
    {
     "name": "stderr",
     "output_type": "stream",
     "text": [
      "/usr/local/lib/python3.10/site-packages/seaborn/_oldcore.py:1498: FutureWarning: is_categorical_dtype is deprecated and will be removed in a future version. Use isinstance(dtype, CategoricalDtype) instead\n",
      "  if pd.api.types.is_categorical_dtype(vector):\n",
      "/usr/local/lib/python3.10/site-packages/seaborn/_oldcore.py:1498: FutureWarning: is_categorical_dtype is deprecated and will be removed in a future version. Use isinstance(dtype, CategoricalDtype) instead\n",
      "  if pd.api.types.is_categorical_dtype(vector):\n",
      "/usr/local/lib/python3.10/site-packages/seaborn/_oldcore.py:1498: FutureWarning: is_categorical_dtype is deprecated and will be removed in a future version. Use isinstance(dtype, CategoricalDtype) instead\n",
      "  if pd.api.types.is_categorical_dtype(vector):\n"
     ]
    },
    {
     "data": {
      "image/png": "[encoded data removed]",
      "text/plain": [
       "<Figure size 576x360 with 1 Axes>"
      ]
     },
     "metadata": {
      "needs_background": "light"
     },
     "output_type": "display_data"
    }
   ],
   "source": [
    "\n",
    "# Train XGBoost Model\n",
    "xgb_model = xgb.XGBClassifier(\n",
    "    objective='binary:logistic',\n",
    "    eval_metric='logloss',\n",
    "    use_label_encoder=False,\n",
    "    n_estimators=100,\n",
    "    learning_rate=0.1,\n",
    "    max_depth=4,\n",
    "    min_child_weight=1,\n",
    "    gamma=0,\n",
    "    subsample=0.8,\n",
    "    colsample_bytree=0.8,\n",
    "    scale_pos_weight=1,  # Adjust this for imbalanced data\n",
    "    random_state=42\n",
    ")\n",
    "\n",
    "xgb_model.fit(X_resampled, y_resampled)\n",
    "\n",
    "# Make Predictions\n",
    "y_pred_xgb = xgb_model.predict(X_test)\n",
    "\n",
    "# Model Evaluation\n",
    "accuracy_xgb = accuracy_score(y_test, y_pred_xgb)\n",
    "precision_xgb = precision_score(y_test, y_pred_xgb)\n",
    "recall_xgb = recall_score(y_test, y_pred_xgb)\n",
    "f1_xgb = f1_score(y_test, y_pred_xgb)\n",
    "\n",
    "print(\"XGBoost Model Performance:\")\n",
    "print(f\"Accuracy: {accuracy_xgb:.4f}\")\n",
    "print(f\"Precision: {precision_xgb:.4f}\")\n",
    "print(f\"Recall: {recall_xgb:.4f}\")\n",
    "print(f\"F1 Score: {f1_xgb:.4f}\")\n",
    "print(\"\\nClassification Report:\\n\", classification_report(y_test, y_pred_xgb))\n",
    "\n",
    "#Confusion Matrix\n",
    "cm_xgb = confusion_matrix(y_test, y_pred_xgb)\n",
    "plt.figure(figsize=(6, 4))\n",
    "sns.heatmap(cm_xgb, annot=True, fmt=\"d\", cmap=\"Blues\", xticklabels=[\"Bad (0)\", \"Good (1)\"], yticklabels=[\"Bad (0)\", \"Good (1)\"])\n",
    "plt.xlabel(\"Predicted\")\n",
    "plt.ylabel(\"Actual\")\n",
    "plt.title(\"Confusion Matrix - XGBoost\")\n",
    "plt.show()\n",
    "\n",
    "#Feature Importance Visualization\n",
    "xgb_feature_importance = pd.Series(xgb_model.feature_importances_, index=df.drop(columns=['RiskPerformance']).columns)\n",
    "top_features_xgb = xgb_feature_importance.sort_values(ascending=False).head(10)\n",
    "\n",
    "plt.figure(figsize=(8, 5))\n",
    "sns.barplot(x=top_features_xgb.values, y=top_features_xgb.index, palette=\"viridis\")\n",
    "plt.xlabel(\"Feature Importance Score\")\n",
    "plt.ylabel(\"Features\")\n",
    "plt.title(\"Top 10 Most Important Features - XGBoost\")\n",
    "plt.show()"
   ]
  },
  {
   "cell_type": "code",
   "execution_count": 30,
   "id": "4b30922c",
   "metadata": {},
   "outputs": [
    {
     "data": {
      "text/html": [
       "<div>\n",
       "<style scoped>\n",
       "    .dataframe tbody tr th:only-of-type {\n",
       "        vertical-align: middle;\n",
       "    }\n",
       "\n",
       "    .dataframe tbody tr th {\n",
       "        vertical-align: top;\n",
       "    }\n",
       "\n",
       "    .dataframe thead th {\n",
       "        text-align: right;\n",
       "    }\n",
       "</style>\n",
       "<table border=\"1\" class=\"dataframe\">\n",
       "  <thead>\n",
       "    <tr style=\"text-align: right;\">\n",
       "      <th></th>\n",
       "      <th>Model</th>\n",
       "      <th>Accuracy</th>\n",
       "      <th>Precision</th>\n",
       "      <th>Recall</th>\n",
       "      <th>F1-Score</th>\n",
       "    </tr>\n",
       "  </thead>\n",
       "  <tbody>\n",
       "    <tr>\n",
       "      <th>0</th>\n",
       "      <td>XGBoost</td>\n",
       "      <td>0.878296</td>\n",
       "      <td>0.885336</td>\n",
       "      <td>0.855165</td>\n",
       "      <td>0.869989</td>\n",
       "    </tr>\n",
       "    <tr>\n",
       "      <th>1</th>\n",
       "      <td>Random Forest (Tuned)</td>\n",
       "      <td>0.879817</td>\n",
       "      <td>0.894382</td>\n",
       "      <td>0.847710</td>\n",
       "      <td>0.870421</td>\n",
       "    </tr>\n",
       "    <tr>\n",
       "      <th>2</th>\n",
       "      <td>Random Forest</td>\n",
       "      <td>0.880832</td>\n",
       "      <td>0.892857</td>\n",
       "      <td>0.851970</td>\n",
       "      <td>0.871935</td>\n",
       "    </tr>\n",
       "    <tr>\n",
       "      <th>3</th>\n",
       "      <td>Logistic Regression</td>\n",
       "      <td>0.738337</td>\n",
       "      <td>0.715596</td>\n",
       "      <td>0.747604</td>\n",
       "      <td>0.731250</td>\n",
       "    </tr>\n",
       "  </tbody>\n",
       "</table>\n",
       "</div>"
      ],
      "text/plain": [
       "                   Model  Accuracy  Precision    Recall  F1-Score\n",
       "0                XGBoost  0.878296   0.885336  0.855165  0.869989\n",
       "1  Random Forest (Tuned)  0.879817   0.894382  0.847710  0.870421\n",
       "2          Random Forest  0.880832   0.892857  0.851970  0.871935\n",
       "3    Logistic Regression  0.738337   0.715596  0.747604  0.731250"
      ]
     },
     "execution_count": 30,
     "metadata": {},
     "output_type": "execute_result"
    },
    {
     "name": "stdout",
     "output_type": "stream",
     "text": [
      "[CV] END class_weight=balanced, max_depth=20, max_features=log2, min_samples_leaf=4, min_samples_split=8, n_estimators=600; total time=   4.0s\n",
      "[CV] END class_weight=balanced_subsample, max_depth=35, max_features=sqrt, min_samples_leaf=1, min_samples_split=8, n_estimators=200; total time=   1.6s\n",
      "[CV] END class_weight=balanced_subsample, max_depth=35, max_features=sqrt, min_samples_leaf=1, min_samples_split=8, n_estimators=200; total time=   1.6s\n",
      "[CV] END class_weight=balanced_subsample, max_depth=20, max_features=log2, min_samples_leaf=2, min_samples_split=8, n_estimators=600; total time=   4.7s\n",
      "[CV] END class_weight=balanced, max_depth=15, max_features=log2, min_samples_leaf=1, min_samples_split=8, n_estimators=800; total time=   5.5s\n",
      "[CV] END class_weight=balanced, max_depth=15, max_features=log2, min_samples_leaf=1, min_samples_split=8, n_estimators=800; total time=   5.5s\n",
      "[CV] END class_weight=balanced_subsample, max_depth=45, max_features=sqrt, min_samples_leaf=3, min_samples_split=8, n_estimators=800; total time=   6.1s\n",
      "[CV] END class_weight=balanced_subsample, max_depth=25, max_features=log2, min_samples_leaf=4, min_samples_split=6, n_estimators=700; total time=   5.3s\n",
      "[CV] END class_weight=balanced_subsample, max_depth=25, max_features=sqrt, min_samples_leaf=1, min_samples_split=2, n_estimators=400; total time=   3.4s\n",
      "[CV] END class_weight=balanced_subsample, max_depth=20, max_features=sqrt, min_samples_leaf=2, min_samples_split=2, n_estimators=400; total time=   3.3s\n",
      "[CV] END class_weight=balanced_subsample, max_depth=20, max_features=sqrt, min_samples_leaf=2, min_samples_split=2, n_estimators=400; total time=   3.2s\n",
      "[CV] END class_weight=balanced, max_depth=10, max_features=sqrt, min_samples_leaf=4, min_samples_split=6, n_estimators=500; total time=   2.9s\n",
      "[CV] END class_weight=balanced, max_depth=35, max_features=log2, min_samples_leaf=3, min_samples_split=8, n_estimators=300; total time=   2.0s\n",
      "[CV] END class_weight=balanced, max_depth=20, max_features=log2, min_samples_leaf=2, min_samples_split=4, n_estimators=500; total time=   3.6s\n",
      "[CV] END class_weight=balanced_subsample, max_depth=10, max_features=sqrt, min_samples_leaf=3, min_samples_split=4, n_estimators=700; total time=   4.7s\n",
      "[CV] END class_weight=balanced_subsample, max_depth=10, max_features=sqrt, min_samples_leaf=4, min_samples_split=6, n_estimators=400; total time=   2.6s\n",
      "[CV] END class_weight=balanced_subsample, max_depth=10, max_features=sqrt, min_samples_leaf=4, min_samples_split=6, n_estimators=400; total time=   2.7s\n",
      "[CV] END class_weight=balanced, max_depth=30, max_features=sqrt, min_samples_leaf=1, min_samples_split=8, n_estimators=600; total time=   4.4s\n",
      "[CV] END class_weight=balanced_subsample, max_depth=45, max_features=log2, min_samples_leaf=3, min_samples_split=6, n_estimators=200; total time=   1.5s\n",
      "[CV] END class_weight=balanced_subsample, max_depth=25, max_features=log2, min_samples_leaf=3, min_samples_split=2, n_estimators=200; total time=   1.6s\n",
      "[CV] END class_weight=balanced_subsample, max_depth=25, max_features=log2, min_samples_leaf=3, min_samples_split=2, n_estimators=200; total time=   1.5s\n",
      "[CV] END class_weight=balanced_subsample, max_depth=40, max_features=sqrt, min_samples_leaf=3, min_samples_split=4, n_estimators=500; total time=   3.8s\n",
      "[CV] END class_weight=balanced_subsample, max_depth=20, max_features=sqrt, min_samples_leaf=1, min_samples_split=6, n_estimators=700; total time=   5.7s\n",
      "[CV] END class_weight=balanced, max_depth=15, max_features=log2, min_samples_leaf=2, min_samples_split=2, n_estimators=700; total time=   4.9s\n",
      "[CV] END class_weight=balanced, max_depth=15, max_features=log2, min_samples_leaf=2, min_samples_split=2, n_estimators=700; total time=   4.9s\n",
      "[CV] END class_weight=balanced, max_depth=25, max_features=log2, min_samples_leaf=3, min_samples_split=2, n_estimators=300; total time=   2.0s\n",
      "[CV] END class_weight=balanced, max_depth=20, max_features=log2, min_samples_leaf=4, min_samples_split=8, n_estimators=600; total time=   4.0s\n",
      "[CV] END class_weight=balanced_subsample, max_depth=35, max_features=sqrt, min_samples_leaf=1, min_samples_split=8, n_estimators=200; total time=   1.6s\n",
      "[CV] END class_weight=balanced_subsample, max_depth=20, max_features=log2, min_samples_leaf=2, min_samples_split=8, n_estimators=600; total time=   4.7s\n",
      "[CV] END class_weight=balanced_subsample, max_depth=20, max_features=log2, min_samples_leaf=2, min_samples_split=8, n_estimators=600; total time=   4.6s\n",
      "[CV] END class_weight=balanced, max_depth=15, max_features=log2, min_samples_leaf=1, min_samples_split=8, n_estimators=800; total time=   5.6s\n",
      "[CV] END class_weight=balanced_subsample, max_depth=45, max_features=sqrt, min_samples_leaf=3, min_samples_split=8, n_estimators=800; total time=   6.1s\n",
      "[CV] END class_weight=balanced_subsample, max_depth=25, max_features=log2, min_samples_leaf=4, min_samples_split=6, n_estimators=700; total time=   5.2s\n",
      "[CV] END class_weight=balanced_subsample, max_depth=25, max_features=sqrt, min_samples_leaf=1, min_samples_split=2, n_estimators=400; total time=   3.4s\n",
      "[CV] END class_weight=balanced_subsample, max_depth=25, max_features=sqrt, min_samples_leaf=1, min_samples_split=2, n_estimators=400; total time=   3.3s\n",
      "[CV] END class_weight=balanced_subsample, max_depth=20, max_features=sqrt, min_samples_leaf=2, min_samples_split=2, n_estimators=400; total time=   3.2s\n",
      "[CV] END class_weight=balanced, max_depth=10, max_features=sqrt, min_samples_leaf=4, min_samples_split=6, n_estimators=500; total time=   2.8s\n",
      "[CV] END class_weight=balanced, max_depth=35, max_features=log2, min_samples_leaf=3, min_samples_split=8, n_estimators=300; total time=   2.0s\n",
      "[CV] END class_weight=balanced, max_depth=35, max_features=log2, min_samples_leaf=3, min_samples_split=8, n_estimators=300; total time=   2.0s\n",
      "[CV] END class_weight=balanced, max_depth=20, max_features=log2, min_samples_leaf=2, min_samples_split=4, n_estimators=500; total time=   3.6s\n",
      "[CV] END class_weight=balanced_subsample, max_depth=10, max_features=sqrt, min_samples_leaf=3, min_samples_split=4, n_estimators=700; total time=   4.7s\n",
      "[CV] END class_weight=balanced_subsample, max_depth=10, max_features=sqrt, min_samples_leaf=4, min_samples_split=6, n_estimators=400; total time=   2.7s\n",
      "[CV] END class_weight=balanced_subsample, max_depth=10, max_features=sqrt, min_samples_leaf=4, min_samples_split=6, n_estimators=400; total time=   2.6s\n",
      "[CV] END class_weight=balanced, max_depth=30, max_features=sqrt, min_samples_leaf=1, min_samples_split=8, n_estimators=600; total time=   4.2s\n",
      "[CV] END class_weight=balanced_subsample, max_depth=45, max_features=log2, min_samples_leaf=3, min_samples_split=6, n_estimators=200; total time=   1.5s\n",
      "[CV] END class_weight=balanced_subsample, max_depth=45, max_features=log2, min_samples_leaf=3, min_samples_split=6, n_estimators=200; total time=   1.5s\n",
      "[CV] END class_weight=balanced_subsample, max_depth=25, max_features=log2, min_samples_leaf=3, min_samples_split=2, n_estimators=200; total time=   1.5s\n",
      "[CV] END class_weight=balanced_subsample, max_depth=40, max_features=sqrt, min_samples_leaf=3, min_samples_split=4, n_estimators=500; total time=   3.8s\n",
      "[CV] END class_weight=balanced_subsample, max_depth=20, max_features=sqrt, min_samples_leaf=1, min_samples_split=6, n_estimators=700; total time=   5.7s\n",
      "[CV] END class_weight=balanced_subsample, max_depth=20, max_features=sqrt, min_samples_leaf=1, min_samples_split=6, n_estimators=700; total time=   5.6s\n",
      "[CV] END class_weight=balanced, max_depth=15, max_features=log2, min_samples_leaf=2, min_samples_split=2, n_estimators=700; total time=   4.9s\n",
      "[CV] END class_weight=balanced, max_depth=20, max_features=log2, min_samples_leaf=4, min_samples_split=8, n_estimators=600; total time=   4.1s\n",
      "[CV] END class_weight=balanced_subsample, max_depth=35, max_features=sqrt, min_samples_leaf=1, min_samples_split=8, n_estimators=200; total time=   1.6s\n",
      "[CV] END class_weight=balanced_subsample, max_depth=20, max_features=log2, min_samples_leaf=2, min_samples_split=8, n_estimators=600; total time=   4.7s\n",
      "[CV] END class_weight=balanced_subsample, max_depth=20, max_features=log2, min_samples_leaf=2, min_samples_split=8, n_estimators=600; total time=   4.7s\n",
      "[CV] END class_weight=balanced, max_depth=15, max_features=log2, min_samples_leaf=1, min_samples_split=8, n_estimators=800; total time=   6.0s\n",
      "[CV] END class_weight=balanced_subsample, max_depth=45, max_features=sqrt, min_samples_leaf=3, min_samples_split=8, n_estimators=800; total time=   6.1s\n",
      "[CV] END class_weight=balanced_subsample, max_depth=25, max_features=log2, min_samples_leaf=4, min_samples_split=6, n_estimators=700; total time=   5.2s\n",
      "[CV] END class_weight=balanced_subsample, max_depth=25, max_features=sqrt, min_samples_leaf=1, min_samples_split=2, n_estimators=400; total time=   3.4s\n",
      "[CV] END class_weight=balanced_subsample, max_depth=25, max_features=sqrt, min_samples_leaf=1, min_samples_split=2, n_estimators=400; total time=   3.4s\n",
      "[CV] END class_weight=balanced_subsample, max_depth=20, max_features=sqrt, min_samples_leaf=2, min_samples_split=2, n_estimators=400; total time=   3.4s\n",
      "[CV] END class_weight=balanced, max_depth=10, max_features=sqrt, min_samples_leaf=4, min_samples_split=6, n_estimators=500; total time=   2.9s\n",
      "[CV] END class_weight=balanced, max_depth=35, max_features=log2, min_samples_leaf=3, min_samples_split=8, n_estimators=300; total time=   2.0s\n",
      "[CV] END class_weight=balanced, max_depth=20, max_features=log2, min_samples_leaf=2, min_samples_split=4, n_estimators=500; total time=   3.6s\n",
      "[CV] END class_weight=balanced, max_depth=20, max_features=log2, min_samples_leaf=2, min_samples_split=4, n_estimators=500; total time=   3.6s\n",
      "[CV] END class_weight=balanced_subsample, max_depth=10, max_features=sqrt, min_samples_leaf=3, min_samples_split=4, n_estimators=700; total time=   4.8s\n",
      "[CV] END class_weight=balanced_subsample, max_depth=10, max_features=sqrt, min_samples_leaf=4, min_samples_split=6, n_estimators=400; total time=   2.7s\n",
      "[CV] END class_weight=balanced, max_depth=30, max_features=sqrt, min_samples_leaf=1, min_samples_split=8, n_estimators=600; total time=   4.3s\n",
      "[CV] END class_weight=balanced_subsample, max_depth=45, max_features=log2, min_samples_leaf=3, min_samples_split=6, n_estimators=200; total time=   1.6s\n",
      "[CV] END class_weight=balanced_subsample, max_depth=45, max_features=log2, min_samples_leaf=3, min_samples_split=6, n_estimators=200; total time=   1.6s\n",
      "[CV] END class_weight=balanced_subsample, max_depth=25, max_features=log2, min_samples_leaf=3, min_samples_split=2, n_estimators=200; total time=   1.6s\n",
      "[CV] END class_weight=balanced_subsample, max_depth=40, max_features=sqrt, min_samples_leaf=3, min_samples_split=4, n_estimators=500; total time=   3.9s\n",
      "[CV] END class_weight=balanced_subsample, max_depth=40, max_features=sqrt, min_samples_leaf=3, min_samples_split=4, n_estimators=500; total time=   3.8s\n",
      "[CV] END class_weight=balanced_subsample, max_depth=20, max_features=sqrt, min_samples_leaf=1, min_samples_split=6, n_estimators=700; total time=   5.8s\n",
      "[CV] END class_weight=balanced, max_depth=15, max_features=log2, min_samples_leaf=2, min_samples_split=2, n_estimators=700; total time=   4.9s\n",
      "[CV] END class_weight=balanced, max_depth=25, max_features=log2, min_samples_leaf=3, min_samples_split=2, n_estimators=300; total time=   2.0s\n",
      "[CV] END class_weight=balanced, max_depth=20, max_features=log2, min_samples_leaf=4, min_samples_split=8, n_estimators=600; total time=   4.0s\n",
      "[CV] END class_weight=balanced_subsample, max_depth=35, max_features=sqrt, min_samples_leaf=1, min_samples_split=8, n_estimators=200; total time=   1.6s\n",
      "[CV] END class_weight=balanced_subsample, max_depth=35, max_features=sqrt, min_samples_leaf=1, min_samples_split=8, n_estimators=200; total time=   1.6s\n",
      "[CV] END class_weight=balanced_subsample, max_depth=20, max_features=log2, min_samples_leaf=2, min_samples_split=8, n_estimators=600; total time=   4.7s\n",
      "[CV] END class_weight=balanced, max_depth=15, max_features=log2, min_samples_leaf=1, min_samples_split=8, n_estimators=800; total time=   5.6s\n",
      "[CV] END class_weight=balanced_subsample, max_depth=45, max_features=sqrt, min_samples_leaf=3, min_samples_split=8, n_estimators=800; total time=   6.2s\n",
      "[CV] END class_weight=balanced_subsample, max_depth=45, max_features=sqrt, min_samples_leaf=3, min_samples_split=8, n_estimators=800; total time=   6.0s\n",
      "[CV] END class_weight=balanced_subsample, max_depth=25, max_features=log2, min_samples_leaf=4, min_samples_split=6, n_estimators=700; total time=   5.2s\n",
      "[CV] END class_weight=balanced_subsample, max_depth=25, max_features=sqrt, min_samples_leaf=1, min_samples_split=2, n_estimators=400; total time=   3.4s\n",
      "[CV] END class_weight=balanced_subsample, max_depth=20, max_features=sqrt, min_samples_leaf=2, min_samples_split=2, n_estimators=400; total time=   3.2s\n",
      "[CV] END class_weight=balanced, max_depth=10, max_features=sqrt, min_samples_leaf=4, min_samples_split=6, n_estimators=500; total time=   2.9s\n",
      "[CV] END class_weight=balanced, max_depth=10, max_features=sqrt, min_samples_leaf=4, min_samples_split=6, n_estimators=500; total time=   2.9s\n",
      "[CV] END class_weight=balanced, max_depth=20, max_features=log2, min_samples_leaf=2, min_samples_split=4, n_estimators=500; total time=   3.6s\n",
      "[CV] END class_weight=balanced, max_depth=20, max_features=log2, min_samples_leaf=2, min_samples_split=4, n_estimators=500; total time=   3.6s\n",
      "[CV] END class_weight=balanced_subsample, max_depth=10, max_features=sqrt, min_samples_leaf=3, min_samples_split=4, n_estimators=700; total time=   4.7s\n",
      "[CV] END class_weight=balanced_subsample, max_depth=10, max_features=sqrt, min_samples_leaf=4, min_samples_split=6, n_estimators=400; total time=   2.6s\n",
      "[CV] END class_weight=balanced, max_depth=30, max_features=sqrt, min_samples_leaf=1, min_samples_split=8, n_estimators=600; total time=   4.3s\n",
      "[CV] END class_weight=balanced_subsample, max_depth=45, max_features=log2, min_samples_leaf=3, min_samples_split=6, n_estimators=200; total time=   1.5s\n",
      "[CV] END class_weight=balanced_subsample, max_depth=45, max_features=log2, min_samples_leaf=3, min_samples_split=6, n_estimators=200; total time=   1.6s\n",
      "[CV] END class_weight=balanced_subsample, max_depth=25, max_features=log2, min_samples_leaf=3, min_samples_split=2, n_estimators=200; total time=   1.5s\n",
      "[CV] END class_weight=balanced_subsample, max_depth=40, max_features=sqrt, min_samples_leaf=3, min_samples_split=4, n_estimators=500; total time=   3.8s\n",
      "[CV] END class_weight=balanced_subsample, max_depth=40, max_features=sqrt, min_samples_leaf=3, min_samples_split=4, n_estimators=500; total time=   3.8s\n",
      "[CV] END class_weight=balanced_subsample, max_depth=20, max_features=sqrt, min_samples_leaf=1, min_samples_split=6, n_estimators=700; total time=   5.8s\n",
      "[CV] END class_weight=balanced, max_depth=15, max_features=log2, min_samples_leaf=2, min_samples_split=2, n_estimators=700; total time=   4.8s\n",
      "[CV] END class_weight=balanced, max_depth=25, max_features=log2, min_samples_leaf=3, min_samples_split=2, n_estimators=300; total time=   2.0s\n",
      "[CV] END class_weight=balanced, max_depth=20, max_features=log2, min_samples_leaf=4, min_samples_split=8, n_estimators=600; total time=   4.0s\n",
      "[CV] END class_weight=balanced_subsample, max_depth=35, max_features=sqrt, min_samples_leaf=1, min_samples_split=8, n_estimators=200; total time=   1.6s\n",
      "[CV] END class_weight=balanced_subsample, max_depth=35, max_features=sqrt, min_samples_leaf=1, min_samples_split=8, n_estimators=200; total time=   1.6s\n",
      "[CV] END class_weight=balanced_subsample, max_depth=20, max_features=log2, min_samples_leaf=2, min_samples_split=8, n_estimators=600; total time=   4.7s\n",
      "[CV] END class_weight=balanced, max_depth=15, max_features=log2, min_samples_leaf=1, min_samples_split=8, n_estimators=800; total time=   5.6s\n",
      "[CV] END class_weight=balanced_subsample, max_depth=45, max_features=sqrt, min_samples_leaf=3, min_samples_split=8, n_estimators=800; total time=   6.2s\n",
      "[CV] END class_weight=balanced_subsample, max_depth=45, max_features=sqrt, min_samples_leaf=3, min_samples_split=8, n_estimators=800; total time=   6.1s\n",
      "[CV] END class_weight=balanced_subsample, max_depth=25, max_features=log2, min_samples_leaf=4, min_samples_split=6, n_estimators=700; total time=   5.2s\n",
      "[CV] END class_weight=balanced_subsample, max_depth=25, max_features=sqrt, min_samples_leaf=1, min_samples_split=2, n_estimators=400; total time=   3.4s\n",
      "[CV] END class_weight=balanced_subsample, max_depth=20, max_features=sqrt, min_samples_leaf=2, min_samples_split=2, n_estimators=400; total time=   3.3s\n",
      "[CV] END class_weight=balanced, max_depth=10, max_features=sqrt, min_samples_leaf=4, min_samples_split=6, n_estimators=500; total time=   2.9s\n",
      "[CV] END class_weight=balanced, max_depth=35, max_features=log2, min_samples_leaf=3, min_samples_split=8, n_estimators=300; total time=   2.0s\n",
      "[CV] END class_weight=balanced, max_depth=35, max_features=log2, min_samples_leaf=3, min_samples_split=8, n_estimators=300; total time=   2.0s\n",
      "[CV] END class_weight=balanced, max_depth=20, max_features=log2, min_samples_leaf=2, min_samples_split=4, n_estimators=500; total time=   3.5s\n",
      "[CV] END class_weight=balanced_subsample, max_depth=10, max_features=sqrt, min_samples_leaf=3, min_samples_split=4, n_estimators=700; total time=   4.7s\n",
      "[CV] END class_weight=balanced_subsample, max_depth=10, max_features=sqrt, min_samples_leaf=3, min_samples_split=4, n_estimators=700; total time=   4.6s\n",
      "[CV] END class_weight=balanced, max_depth=30, max_features=sqrt, min_samples_leaf=1, min_samples_split=8, n_estimators=600; total time=   4.3s\n",
      "[CV] END class_weight=balanced, max_depth=30, max_features=sqrt, min_samples_leaf=1, min_samples_split=8, n_estimators=600; total time=   4.3s\n",
      "[CV] END class_weight=balanced_subsample, max_depth=25, max_features=log2, min_samples_leaf=3, min_samples_split=2, n_estimators=200; total time=   1.6s\n",
      "[CV] END class_weight=balanced_subsample, max_depth=40, max_features=sqrt, min_samples_leaf=3, min_samples_split=4, n_estimators=500; total time=   3.8s\n",
      "[CV] END class_weight=balanced_subsample, max_depth=20, max_features=sqrt, min_samples_leaf=1, min_samples_split=6, n_estimators=700; total time=   5.7s\n",
      "[CV] END class_weight=balanced, max_depth=15, max_features=log2, min_samples_leaf=2, min_samples_split=2, n_estimators=700; total time=   4.9s\n",
      "[CV] END class_weight=balanced, max_depth=15, max_features=log2, min_samples_leaf=2, min_samples_split=2, n_estimators=700; total time=   5.0s\n",
      "[CV] END class_weight=balanced, max_depth=20, max_features=log2, min_samples_leaf=4, min_samples_split=8, n_estimators=600; total time=   3.9s\n",
      "[CV] END class_weight=balanced, max_depth=20, max_features=log2, min_samples_leaf=4, min_samples_split=8, n_estimators=600; total time=   3.9s\n",
      "[CV] END class_weight=balanced_subsample, max_depth=20, max_features=log2, min_samples_leaf=2, min_samples_split=8, n_estimators=600; total time=   4.7s\n",
      "[CV] END class_weight=balanced, max_depth=15, max_features=log2, min_samples_leaf=1, min_samples_split=8, n_estimators=800; total time=   5.5s\n",
      "[CV] END class_weight=balanced_subsample, max_depth=45, max_features=sqrt, min_samples_leaf=3, min_samples_split=8, n_estimators=800; total time=   6.2s\n",
      "[CV] END class_weight=balanced_subsample, max_depth=25, max_features=log2, min_samples_leaf=4, min_samples_split=6, n_estimators=700; total time=   5.3s\n",
      "[CV] END class_weight=balanced_subsample, max_depth=25, max_features=log2, min_samples_leaf=4, min_samples_split=6, n_estimators=700; total time=   5.3s\n",
      "[CV] END class_weight=balanced_subsample, max_depth=25, max_features=sqrt, min_samples_leaf=1, min_samples_split=2, n_estimators=400; total time=   3.4s\n",
      "[CV] END class_weight=balanced_subsample, max_depth=20, max_features=sqrt, min_samples_leaf=2, min_samples_split=2, n_estimators=400; total time=   3.3s\n",
      "[CV] END class_weight=balanced, max_depth=10, max_features=sqrt, min_samples_leaf=4, min_samples_split=6, n_estimators=500; total time=   2.9s\n",
      "[CV] END class_weight=balanced, max_depth=35, max_features=log2, min_samples_leaf=3, min_samples_split=8, n_estimators=300; total time=   2.0s\n",
      "[CV] END class_weight=balanced, max_depth=35, max_features=log2, min_samples_leaf=3, min_samples_split=8, n_estimators=300; total time=   2.0s\n",
      "[CV] END class_weight=balanced, max_depth=20, max_features=log2, min_samples_leaf=2, min_samples_split=4, n_estimators=500; total time=   3.6s\n",
      "[CV] END class_weight=balanced_subsample, max_depth=10, max_features=sqrt, min_samples_leaf=3, min_samples_split=4, n_estimators=700; total time=   4.7s\n",
      "[CV] END class_weight=balanced_subsample, max_depth=10, max_features=sqrt, min_samples_leaf=3, min_samples_split=4, n_estimators=700; total time=   4.7s\n",
      "[CV] END class_weight=balanced, max_depth=30, max_features=sqrt, min_samples_leaf=1, min_samples_split=8, n_estimators=600; total time=   4.3s\n",
      "[CV] END class_weight=balanced, max_depth=30, max_features=sqrt, min_samples_leaf=1, min_samples_split=8, n_estimators=600; total time=   4.3s\n",
      "[CV] END class_weight=balanced_subsample, max_depth=25, max_features=log2, min_samples_leaf=3, min_samples_split=2, n_estimators=200; total time=   1.5s\n",
      "[CV] END class_weight=balanced_subsample, max_depth=40, max_features=sqrt, min_samples_leaf=3, min_samples_split=4, n_estimators=500; total time=   3.9s\n",
      "[CV] END class_weight=balanced_subsample, max_depth=20, max_features=sqrt, min_samples_leaf=1, min_samples_split=6, n_estimators=700; total time=   5.7s\n",
      "[CV] END class_weight=balanced, max_depth=15, max_features=log2, min_samples_leaf=2, min_samples_split=2, n_estimators=700; total time=   4.9s\n",
      "[CV] END class_weight=balanced, max_depth=25, max_features=log2, min_samples_leaf=3, min_samples_split=2, n_estimators=300; total time=   2.0s\n",
      "[CV] END class_weight=balanced, max_depth=25, max_features=log2, min_samples_leaf=3, min_samples_split=2, n_estimators=300; total time=   2.0s\n",
      "[CV] END class_weight=balanced, max_depth=25, max_features=log2, min_samples_leaf=3, min_samples_split=2, n_estimators=300; total time=   2.1s\n",
      "[CV] END class_weight=balanced, max_depth=20, max_features=log2, min_samples_leaf=4, min_samples_split=8, n_estimators=600; total time=   3.9s\n",
      "[CV] END class_weight=balanced, max_depth=20, max_features=log2, min_samples_leaf=4, min_samples_split=8, n_estimators=600; total time=   3.9s\n",
      "[CV] END class_weight=balanced_subsample, max_depth=20, max_features=log2, min_samples_leaf=2, min_samples_split=8, n_estimators=600; total time=   4.7s\n",
      "[CV] END class_weight=balanced, max_depth=15, max_features=log2, min_samples_leaf=1, min_samples_split=8, n_estimators=800; total time=   5.5s\n",
      "[CV] END class_weight=balanced_subsample, max_depth=45, max_features=sqrt, min_samples_leaf=3, min_samples_split=8, n_estimators=800; total time=   6.1s\n",
      "[CV] END class_weight=balanced_subsample, max_depth=25, max_features=log2, min_samples_leaf=4, min_samples_split=6, n_estimators=700; total time=   5.2s\n",
      "[CV] END class_weight=balanced_subsample, max_depth=25, max_features=log2, min_samples_leaf=4, min_samples_split=6, n_estimators=700; total time=   5.3s\n",
      "[CV] END class_weight=balanced_subsample, max_depth=25, max_features=sqrt, min_samples_leaf=1, min_samples_split=2, n_estimators=400; total time=   3.3s\n",
      "[CV] END class_weight=balanced_subsample, max_depth=20, max_features=sqrt, min_samples_leaf=2, min_samples_split=2, n_estimators=400; total time=   3.2s\n",
      "[CV] END class_weight=balanced, max_depth=10, max_features=sqrt, min_samples_leaf=4, min_samples_split=6, n_estimators=500; total time=   2.9s\n",
      "[CV] END class_weight=balanced, max_depth=10, max_features=sqrt, min_samples_leaf=4, min_samples_split=6, n_estimators=500; total time=   2.9s\n",
      "[CV] END class_weight=balanced, max_depth=35, max_features=log2, min_samples_leaf=3, min_samples_split=8, n_estimators=300; total time=   2.0s\n",
      "[CV] END class_weight=balanced, max_depth=20, max_features=log2, min_samples_leaf=2, min_samples_split=4, n_estimators=500; total time=   3.5s\n",
      "[CV] END class_weight=balanced_subsample, max_depth=10, max_features=sqrt, min_samples_leaf=3, min_samples_split=4, n_estimators=700; total time=   4.7s\n",
      "[CV] END class_weight=balanced_subsample, max_depth=10, max_features=sqrt, min_samples_leaf=4, min_samples_split=6, n_estimators=400; total time=   2.7s\n",
      "[CV] END class_weight=balanced_subsample, max_depth=10, max_features=sqrt, min_samples_leaf=4, min_samples_split=6, n_estimators=400; total time=   2.6s\n",
      "[CV] END class_weight=balanced, max_depth=30, max_features=sqrt, min_samples_leaf=1, min_samples_split=8, n_estimators=600; total time=   4.3s\n",
      "[CV] END class_weight=balanced_subsample, max_depth=45, max_features=log2, min_samples_leaf=3, min_samples_split=6, n_estimators=200; total time=   1.5s\n",
      "[CV] END class_weight=balanced_subsample, max_depth=45, max_features=log2, min_samples_leaf=3, min_samples_split=6, n_estimators=200; total time=   1.5s\n",
      "[CV] END class_weight=balanced_subsample, max_depth=25, max_features=log2, min_samples_leaf=3, min_samples_split=2, n_estimators=200; total time=   1.6s\n",
      "[CV] END class_weight=balanced_subsample, max_depth=40, max_features=sqrt, min_samples_leaf=3, min_samples_split=4, n_estimators=500; total time=   3.8s\n",
      "[CV] END class_weight=balanced_subsample, max_depth=20, max_features=sqrt, min_samples_leaf=1, min_samples_split=6, n_estimators=700; total time=   5.7s\n",
      "[CV] END class_weight=balanced_subsample, max_depth=20, max_features=sqrt, min_samples_leaf=1, min_samples_split=6, n_estimators=700; total time=   5.7s\n",
      "[CV] END class_weight=balanced, max_depth=25, max_features=log2, min_samples_leaf=3, min_samples_split=2, n_estimators=300; total time=   2.0s\n",
      "[CV] END class_weight=balanced, max_depth=25, max_features=log2, min_samples_leaf=3, min_samples_split=2, n_estimators=300; total time=   2.1s\n",
      "[CV] END class_weight=balanced, max_depth=25, max_features=log2, min_samples_leaf=3, min_samples_split=2, n_estimators=300; total time=   2.1s\n",
      "[CV] END class_weight=balanced, max_depth=20, max_features=log2, min_samples_leaf=4, min_samples_split=8, n_estimators=600; total time=   3.9s\n",
      "[CV] END class_weight=balanced_subsample, max_depth=35, max_features=sqrt, min_samples_leaf=1, min_samples_split=8, n_estimators=200; total time=   1.6s\n",
      "[CV] END class_weight=balanced_subsample, max_depth=35, max_features=sqrt, min_samples_leaf=1, min_samples_split=8, n_estimators=200; total time=   1.6s\n",
      "[CV] END class_weight=balanced_subsample, max_depth=20, max_features=log2, min_samples_leaf=2, min_samples_split=8, n_estimators=600; total time=   4.7s\n",
      "[CV] END class_weight=balanced, max_depth=15, max_features=log2, min_samples_leaf=1, min_samples_split=8, n_estimators=800; total time=   5.5s\n",
      "[CV] END class_weight=balanced, max_depth=15, max_features=log2, min_samples_leaf=1, min_samples_split=8, n_estimators=800; total time=   5.5s\n",
      "[CV] END class_weight=balanced_subsample, max_depth=45, max_features=sqrt, min_samples_leaf=3, min_samples_split=8, n_estimators=800; total time=   6.0s\n",
      "[CV] END class_weight=balanced_subsample, max_depth=25, max_features=log2, min_samples_leaf=4, min_samples_split=6, n_estimators=700; total time=   5.2s\n",
      "[CV] END class_weight=balanced_subsample, max_depth=25, max_features=sqrt, min_samples_leaf=1, min_samples_split=2, n_estimators=400; total time=   3.4s\n",
      "[CV] END class_weight=balanced_subsample, max_depth=20, max_features=sqrt, min_samples_leaf=2, min_samples_split=2, n_estimators=400; total time=   3.2s\n",
      "[CV] END class_weight=balanced_subsample, max_depth=20, max_features=sqrt, min_samples_leaf=2, min_samples_split=2, n_estimators=400; total time=   3.2s\n",
      "[CV] END class_weight=balanced, max_depth=10, max_features=sqrt, min_samples_leaf=4, min_samples_split=6, n_estimators=500; total time=   2.9s\n",
      "[CV] END class_weight=balanced, max_depth=35, max_features=log2, min_samples_leaf=3, min_samples_split=8, n_estimators=300; total time=   2.0s\n",
      "[CV] END class_weight=balanced, max_depth=20, max_features=log2, min_samples_leaf=2, min_samples_split=4, n_estimators=500; total time=   3.6s\n",
      "[CV] END class_weight=balanced_subsample, max_depth=10, max_features=sqrt, min_samples_leaf=3, min_samples_split=4, n_estimators=700; total time=   4.7s\n",
      "[CV] END class_weight=balanced_subsample, max_depth=10, max_features=sqrt, min_samples_leaf=4, min_samples_split=6, n_estimators=400; total time=   2.6s\n",
      "[CV] END class_weight=balanced_subsample, max_depth=10, max_features=sqrt, min_samples_leaf=4, min_samples_split=6, n_estimators=400; total time=   2.6s\n",
      "[CV] END class_weight=balanced, max_depth=30, max_features=sqrt, min_samples_leaf=1, min_samples_split=8, n_estimators=600; total time=   4.3s\n",
      "[CV] END class_weight=balanced_subsample, max_depth=45, max_features=log2, min_samples_leaf=3, min_samples_split=6, n_estimators=200; total time=   1.5s\n",
      "[CV] END class_weight=balanced_subsample, max_depth=25, max_features=log2, min_samples_leaf=3, min_samples_split=2, n_estimators=200; total time=   1.5s\n",
      "[CV] END class_weight=balanced_subsample, max_depth=25, max_features=log2, min_samples_leaf=3, min_samples_split=2, n_estimators=200; total time=   1.6s\n",
      "[CV] END class_weight=balanced_subsample, max_depth=40, max_features=sqrt, min_samples_leaf=3, min_samples_split=4, n_estimators=500; total time=   3.8s\n",
      "[CV] END class_weight=balanced_subsample, max_depth=20, max_features=sqrt, min_samples_leaf=1, min_samples_split=6, n_estimators=700; total time=   5.7s\n",
      "[CV] END class_weight=balanced, max_depth=15, max_features=log2, min_samples_leaf=2, min_samples_split=2, n_estimators=700; total time=   5.0s\n",
      "[CV] END class_weight=balanced, max_depth=15, max_features=log2, min_samples_leaf=2, min_samples_split=2, n_estimators=700; total time=   4.9s\n",
      "[CV] END class_weight=balanced, max_depth=25, max_features=log2, min_samples_leaf=3, min_samples_split=2, n_estimators=300; total time=   2.0s\n"
     ]
    }
   ],
   "source": [
    "import pandas as pd\n",
    "\n",
    "# Assuming these values were calculated in your script\n",
    "model_comparison = {\n",
    "    \"Model\": [\"XGBoost\", \"Random Forest (Tuned)\", \"Random Forest\", \"Logistic Regression\"],\n",
    "    \"Accuracy\": [accuracy_xgb, accuracy_random, rf_accuracy, log_accuracy],\n",
    "    \"Precision\": [precision_xgb, precision_random, rf_precision, log_precision],\n",
    "    \"Recall\": [recall_xgb, recall_random, rf_recall, log_recall],\n",
    "    \"F1-Score\": [f1_xgb, f1_random, rf_f1, log_f1]\n",
    "}\n",
    "\n",
    "# Convert to DataFrame\n",
    "comparison_df = pd.DataFrame(model_comparison)\n",
    "comparison_df\n",
    "\n",
    "\n"
   ]
  },
  {
   "cell_type": "code",
   "execution_count": null,
   "id": "55471758",
   "metadata": {},
   "outputs": [],
   "source": []
  },
  {
   "cell_type": "code",
   "execution_count": null,
   "id": "2cec17c3",
   "metadata": {},
   "outputs": [],
   "source": [
    "\n"
   ]
  },
  {
   "cell_type": "code",
   "execution_count": null,
   "id": "1d216188",
   "metadata": {},
   "outputs": [],
   "source": []
  }
 ],
 "metadata": {
  "kernelspec": {
   "display_name": "Python 3 [3.10]",
   "language": "python",
   "name": "python3"
  },
  "language_info": {
   "codemirror_mode": {
    "name": "ipython",
    "version": 3
   },
   "file_extension": ".py",
   "mimetype": "text/x-python",
   "name": "python",
   "nbconvert_exporter": "python",
   "pygments_lexer": "ipython3",
   "version": "3.10.2"
  }
 },
 "nbformat": 4,
 "nbformat_minor": 5
}
